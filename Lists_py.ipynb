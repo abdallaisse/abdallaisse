{
  "nbformat": 4,
  "nbformat_minor": 0,
  "metadata": {
    "colab": {
      "name": "Lists.py",
      "provenance": [],
      "collapsed_sections": [],
      "include_colab_link": true
    },
    "kernelspec": {
      "name": "python3",
      "display_name": "Python 3"
    },
    "language_info": {
      "name": "python"
    }
  },
  "cells": [
    {
      "cell_type": "markdown",
      "metadata": {
        "id": "view-in-github",
        "colab_type": "text"
      },
      "source": [
        "<a href=\"https://colab.research.google.com/github/abdallaisse/abdallaisse/blob/main/Lists_py.ipynb\" target=\"_parent\"><img src=\"https://colab.research.google.com/assets/colab-badge.svg\" alt=\"Open In Colab\"/></a>"
      ]
    },
    {
      "cell_type": "code",
      "metadata": {
        "id": "04n-GXIffNGk",
        "colab": {
          "base_uri": "https://localhost:8080/"
        },
        "outputId": "8419f93d-ca5b-40b3-a7d3-e791fd9c3438"
      },
      "source": [
        "#Q1 Create a tuple with all participant names in the JDA program\n",
        "Names = (\"Abdalla\",\"Abdur\", \"Amandeep\",\"Abiy\",\"Anu\",\"Aly\")\n",
        "print(Names)"
      ],
      "execution_count": null,
      "outputs": [
        {
          "output_type": "stream",
          "name": "stdout",
          "text": [
            "('Abdalla', 'Abdur', 'Amandeep', 'Abiy', 'Anu', 'Aly')\n"
          ]
        }
      ]
    },
    {
      "cell_type": "code",
      "metadata": {
        "colab": {
          "base_uri": "https://localhost:8080/"
        },
        "id": "CcPyK8Edgj5k",
        "outputId": "5f90eb67-f607-46e5-80d9-53cf6fba60a1"
      },
      "source": [
        "#Q2 Convert the tuple into a list called pps_L\n",
        "pps_L = list(Names)\n",
        "print(pps_L)"
      ],
      "execution_count": null,
      "outputs": [
        {
          "output_type": "stream",
          "name": "stdout",
          "text": [
            "['Abdalla', 'Abdur', 'Amandeep', 'Abiy', 'Anu', 'Aly']\n"
          ]
        }
      ]
    },
    {
      "cell_type": "code",
      "metadata": {
        "colab": {
          "base_uri": "https://localhost:8080/"
        },
        "id": "RUn4UgFBhGx-",
        "outputId": "abd0a9a7-373a-4c97-ba3d-5d5140623605"
      },
      "source": [
        "#Q3 What is the length of your list\n",
        "print(len(pps_L))"
      ],
      "execution_count": null,
      "outputs": [
        {
          "output_type": "stream",
          "name": "stdout",
          "text": [
            "6\n"
          ]
        }
      ]
    },
    {
      "cell_type": "code",
      "metadata": {
        "colab": {
          "base_uri": "https://localhost:8080/"
        },
        "id": "MK9g8CQBherr",
        "outputId": "1430fa00-396d-4e19-fc8e-6a414a55ab5d"
      },
      "source": [
        "#Q4 Find the values stored in indexes [3],[5],[1],[2],[4]\n",
        "print(pps_L[3])\n",
        "print(pps_L[5])\n",
        "print(pps_L[1])\n",
        "print(pps_L[2])\n",
        "print(pps_L[4])"
      ],
      "execution_count": null,
      "outputs": [
        {
          "output_type": "stream",
          "name": "stdout",
          "text": [
            "Abiy\n",
            "Aly\n",
            "Abdur\n",
            "Amandeep\n",
            "Anu\n"
          ]
        }
      ]
    },
    {
      "cell_type": "code",
      "metadata": {
        "colab": {
          "base_uri": "https://localhost:8080/"
        },
        "id": "HvagL7Jdh3-K",
        "outputId": "40b10d4b-cce6-4c75-e22f-1a093c1ec3de"
      },
      "source": [
        "#Q5 Check if \"Sarah\" is in the list\n",
        "\"Sarah\" in pps_L\n"
      ],
      "execution_count": null,
      "outputs": [
        {
          "output_type": "execute_result",
          "data": {
            "text/plain": [
              "False"
            ]
          },
          "metadata": {},
          "execution_count": 10
        }
      ]
    },
    {
      "cell_type": "code",
      "metadata": {
        "id": "oy_cnK-ciVUZ"
      },
      "source": [
        "#Q6 Add \"Sarah\" to your list\n",
        "pps_L.append(\"Sarah\")"
      ],
      "execution_count": null,
      "outputs": []
    },
    {
      "cell_type": "code",
      "metadata": {
        "colab": {
          "base_uri": "https://localhost:8080/"
        },
        "id": "ZpIMXacpi-zY",
        "outputId": "28970c5e-1c33-4544-e475-142b2df4aa32"
      },
      "source": [
        "pps_L"
      ],
      "execution_count": null,
      "outputs": [
        {
          "output_type": "execute_result",
          "data": {
            "text/plain": [
              "['Abdalla', 'Abdur', 'Amandeep', 'Abiy', 'Anu', 'Aly', 'Sarah']"
            ]
          },
          "metadata": {},
          "execution_count": 12
        }
      ]
    },
    {
      "cell_type": "code",
      "metadata": {
        "colab": {
          "base_uri": "https://localhost:8080/"
        },
        "id": "PIEGyfBEjAMg",
        "outputId": "c94c49ec-66c4-4c73-c80d-c220f829291d"
      },
      "source": [
        "#Q7 Check if \"Bashir\" is in the list\n",
        "\"Bashir\" in pps_L"
      ],
      "execution_count": null,
      "outputs": [
        {
          "output_type": "execute_result",
          "data": {
            "text/plain": [
              "False"
            ]
          },
          "metadata": {},
          "execution_count": 13
        }
      ]
    },
    {
      "cell_type": "code",
      "metadata": {
        "id": "qTVaWiGyjGJo"
      },
      "source": [
        "#Q9 Add \"Bashir\" to your list\n",
        "pps_L.append(\"Bashir\")\n",
        "\n",
        "\n"
      ],
      "execution_count": null,
      "outputs": []
    },
    {
      "cell_type": "code",
      "metadata": {
        "colab": {
          "base_uri": "https://localhost:8080/"
        },
        "id": "cXH_TthVjPdT",
        "outputId": "9698e92d-33b5-4a34-86ce-5d02351cebd5"
      },
      "source": [
        "#Q10 Find the index of the element \"Sarah\" in the line\n",
        "pps_L.index(\"Sarah\")"
      ],
      "execution_count": null,
      "outputs": [
        {
          "output_type": "execute_result",
          "data": {
            "text/plain": [
              "6"
            ]
          },
          "metadata": {},
          "execution_count": 15
        }
      ]
    },
    {
      "cell_type": "code",
      "metadata": {
        "id": "qcaZnP8gjgXQ"
      },
      "source": [
        "#Q11 Change the value of the index in Q10 from \"Sarah\" to \"Instructor\"\n",
        "pps_L[6] = \"Instructor\""
      ],
      "execution_count": null,
      "outputs": []
    },
    {
      "cell_type": "code",
      "metadata": {
        "colab": {
          "base_uri": "https://localhost:8080/"
        },
        "id": "rfgENRArj6fx",
        "outputId": "65790de9-79f2-47bf-cafc-57202cfe3165"
      },
      "source": [
        "print(pps_L)"
      ],
      "execution_count": null,
      "outputs": [
        {
          "output_type": "stream",
          "name": "stdout",
          "text": [
            "['Abdalla', 'Abdur', 'Amandeep', 'Abiy', 'Anu', 'Aly', 'Instructor', 'Bashir']\n"
          ]
        }
      ]
    },
    {
      "cell_type": "code",
      "metadata": {
        "colab": {
          "base_uri": "https://localhost:8080/"
        },
        "id": "AEQPxGFIj_sI",
        "outputId": "6c086c28-750c-4795-e89b-8f0bdd20ede8"
      },
      "source": [
        "#Q12 Find the index of the element \"Bashir\" in the list\n",
        "pps_L.index(\"Bashir\")"
      ],
      "execution_count": null,
      "outputs": [
        {
          "output_type": "execute_result",
          "data": {
            "text/plain": [
              "7"
            ]
          },
          "metadata": {},
          "execution_count": 18
        }
      ]
    },
    {
      "cell_type": "code",
      "metadata": {
        "id": "U_o5MF-bkLM5"
      },
      "source": [
        "#Q13 Change the value of the index in Q12 from \"Bashir\" to \"Peer-Mentor\"\n",
        "pps_L[7] = \"Peer-Mentor\""
      ],
      "execution_count": null,
      "outputs": []
    },
    {
      "cell_type": "code",
      "metadata": {
        "colab": {
          "base_uri": "https://localhost:8080/"
        },
        "id": "rQ6iKMKMkR6P",
        "outputId": "a0d255a5-1e9d-4df1-a9e1-1c1455d03050"
      },
      "source": [
        "print(pps_L)"
      ],
      "execution_count": null,
      "outputs": [
        {
          "output_type": "stream",
          "name": "stdout",
          "text": [
            "['Abdalla', 'Abdur', 'Amandeep', 'Abiy', 'Anu', 'Aly', 'Instructor', 'Peer-Mentor']\n"
          ]
        }
      ]
    },
    {
      "cell_type": "code",
      "metadata": {
        "id": "oO9zr_XqlUsz"
      },
      "source": [
        ""
      ],
      "execution_count": null,
      "outputs": []
    },
    {
      "cell_type": "markdown",
      "metadata": {
        "id": "_QcE1v5OlY1N"
      },
      "source": [
        ""
      ]
    },
    {
      "cell_type": "code",
      "metadata": {
        "id": "HECxJgV8kTsP",
        "colab": {
          "base_uri": "https://localhost:8080/"
        },
        "outputId": "621877ca-f6f1-4da8-c547-9687eb30a515"
      },
      "source": [
        "# A b i y\n",
        "# 0 1 2 3\n",
        "\n",
        "\n",
        "\n"
      ],
      "execution_count": null,
      "outputs": [
        {
          "output_type": "stream",
          "name": "stdout",
          "text": [
            "biy\n"
          ]
        }
      ]
    },
    {
      "cell_type": "code",
      "metadata": {
        "id": "lTjHO4HvlcH6"
      },
      "source": [
        ""
      ],
      "execution_count": null,
      "outputs": []
    }
  ]
}